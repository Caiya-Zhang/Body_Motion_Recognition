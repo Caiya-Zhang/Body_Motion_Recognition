{
  "nbformat": 4,
  "nbformat_minor": 0,
  "metadata": {
    "colab": {
      "name": "LRCN_MHAD.ipynb",
      "provenance": [],
      "machine_shape": "hm"
    },
    "kernelspec": {
      "name": "python3",
      "display_name": "Python 3"
    },
    "language_info": {
      "name": "python"
    },
    "accelerator": "GPU"
  },
  "cells": [
    {
      "cell_type": "code",
      "source": [
        "# CS4442 Final Project\n",
        "# April 2022\n",
        "# Model Implementation"
      ],
      "metadata": {
        "id": "0YzLU9o5-tbV"
      },
      "execution_count": 15,
      "outputs": []
    },
    {
      "cell_type": "code",
      "source": [
        "# Reference: \n",
        "# Stuarteiffert, “Stuarteiffert/RNN-for-human-activity-recognition-using-2d-pose-input: Activity recognition from 2D pose using an LSTM RNN,” GitHub. [Online]. Available: https://github.com/stuarteiffert/RNN-for-Human-Activity-Recognition-using-2D-Pose-Input. [Accessed: 08-Apr-2022]"
      ],
      "metadata": {
        "id": "Hkebw0ib8A8e"
      },
      "execution_count": 16,
      "outputs": []
    },
    {
      "cell_type": "code",
      "execution_count": 1,
      "metadata": {
        "colab": {
          "base_uri": "https://localhost:8080/"
        },
        "id": "cR-bcz5PWlhH",
        "outputId": "99a1a5a6-29ce-412a-fcaa-a99ecca828fd"
      },
      "outputs": [
        {
          "output_type": "stream",
          "name": "stdout",
          "text": [
            "TensorFlow 1.x selected.\n"
          ]
        }
      ],
      "source": [
        "%tensorflow_version 1.x\n",
        "import numpy as np\n",
        "import tensorflow as tf \n",
        "import time\n",
        "import os\n",
        "\n",
        "import random\n",
        "from random import randint\n",
        "\n",
        "import matplotlib\n",
        "import matplotlib.pyplot as plt\n",
        "\n",
        "from sklearn import metrics"
      ]
    },
    {
      "cell_type": "code",
      "source": [
        "# retrieve dataset\n",
        "from google.colab import drive\n",
        "drive.mount('/content/drive')\n",
        "\n",
        "!mkdir /content/MHAD_SUBSET/\n",
        "!unzip /content/drive/MyDrive/MHAD.zip -d /content/MHAD_SUBSET/"
      ],
      "metadata": {
        "colab": {
          "base_uri": "https://localhost:8080/"
        },
        "id": "-lHK0td49d1A",
        "outputId": "3bb05337-a780-4054-f9cc-b7ddd5d3f85d"
      },
      "execution_count": 2,
      "outputs": [
        {
          "output_type": "stream",
          "name": "stdout",
          "text": [
            "Mounted at /content/drive\n",
            "Archive:  /content/drive/MyDrive/MHAD.zip\n",
            "  inflating: /content/MHAD_SUBSET/X_train.txt  \n",
            "  inflating: /content/MHAD_SUBSET/X_val2.txt  \n",
            "  inflating: /content/MHAD_SUBSET/X_val.txt  \n",
            "  inflating: /content/MHAD_SUBSET/Y_train.txt  \n",
            "  inflating: /content/MHAD_SUBSET/X_test.txt  \n",
            "  inflating: /content/MHAD_SUBSET/Y_test.txt  \n"
          ]
        }
      ]
    },
    {
      "cell_type": "code",
      "source": [
        "# constants\n",
        "CLASSES = [\"JUMPING\", \"JUMPING_JACKS\", \"BOXING\", \"WAVING_2HANDS\", \"WAVING_1HAND\", \"CLAPPING_HANDS\"]\n",
        "\n",
        "DATA_PATH = '/content/MHAD_SUBSET/'\n",
        "\n",
        "X_TRAIN = DATA_PATH + \"X_train.txt\"\n",
        "X_TEST = DATA_PATH + \"X_test.txt\"\n",
        "\n",
        "y_TRAIN = DATA_PATH + \"Y_train.txt\"\n",
        "y_TEST = DATA_PATH + \"Y_test.txt\"\n",
        "\n",
        "N_STEPS = 32"
      ],
      "metadata": {
        "id": "jReJwK2q_6_R"
      },
      "execution_count": 3,
      "outputs": []
    },
    {
      "cell_type": "code",
      "source": [
        "# load x and y data\n",
        "# X, inputs\n",
        "def loadInput(xpath):\n",
        "    file = open(xpath, 'r')\n",
        "    X_ = np.array(\n",
        "        [elem for elem in [\n",
        "            row.split(',') for row in file\n",
        "        ]], \n",
        "        dtype=np.float32\n",
        "    )\n",
        "    file.close()\n",
        "    blocks = int(len(X_) / N_STEPS)\n",
        "    \n",
        "    X_ = np.array(np.split(X_,blocks))\n",
        "\n",
        "    return X_ \n",
        "\n",
        "# Y, labels\n",
        "def loadLabels(ypath):\n",
        "    file = open(ypath, 'r')\n",
        "    y_ = np.array(\n",
        "        [elem for elem in [\n",
        "            row.replace('  ', ' ').strip().split(' ') for row in file\n",
        "        ]], \n",
        "        dtype=np.int32\n",
        "    )\n",
        "    file.close()\n",
        "    \n",
        "    # for 0-based indexing \n",
        "    return y_ - 1\n",
        "\n",
        "Xtrain = loadInput(X_TRAIN)\n",
        "Xtest = loadInput(X_TEST)\n",
        "\n",
        "ytrain = loadLabels(y_TRAIN)\n",
        "ytest = loadLabels(y_TEST)\n",
        "\n",
        "print('X train: ', len(Xtrain))\n",
        "print('X test: ', len(Xtest))\n",
        "print('y train: ', len(ytrain))\n",
        "print('y test: ', len(ytest))"
      ],
      "metadata": {
        "colab": {
          "base_uri": "https://localhost:8080/"
        },
        "id": "u8ea9eTGAqLh",
        "outputId": "af6a47a4-14f2-4cd9-e3e3-a66704f1288c"
      },
      "execution_count": 4,
      "outputs": [
        {
          "output_type": "stream",
          "name": "stdout",
          "text": [
            "X train:  22625\n",
            "X test:  5751\n",
            "y train:  22625\n",
            "y test:  5751\n"
          ]
        }
      ]
    },
    {
      "cell_type": "code",
      "source": [
        "training_iters = len(Xtrain) * 100 \n",
        "batch_size = 4096\n",
        "display_iter = batch_size * 8 \n",
        "decaying_learning_rate = True"
      ],
      "metadata": {
        "id": "IbpodOUA2gzF"
      },
      "execution_count": 5,
      "outputs": []
    },
    {
      "cell_type": "code",
      "source": [
        "def MODEL(features, weights, bias):\n",
        "    features = tf.transpose(features, [1, 0, 2])\n",
        "    features = tf.reshape(features, [-1, len(Xtrain[0][0])])\n",
        "    features = tf.nn.relu(tf.matmul(features, weights['hidden']) + bias['hidden'])\n",
        "    features = tf.split(features, 32, 0) \n",
        "\n",
        "    cell1 = tf.contrib.rnn.BasicLSTMCell(34, forget_bias=1.0, state_is_tuple=True)\n",
        "    cell2 = tf.contrib.rnn.BasicLSTMCell(34, forget_bias=1.0, state_is_tuple=True)\n",
        "    cells = tf.contrib.rnn.MultiRNNCell([cell1, cell2], state_is_tuple=True)\n",
        "    outputs, states = tf.contrib.rnn.static_rnn(cells, features, dtype=tf.float32)\n",
        "    final_output = outputs[-1]\n",
        "    return tf.matmul(final_output, weights['out']) + bias['out']\n",
        "\n",
        "def get_batch(_train, _labels, _unsampled, batch_size):\n",
        "    shape = list(_train.shape)\n",
        "    shape[0] = batch_size\n",
        "    batch_s = np.empty(shape)\n",
        "    batch_labels = np.empty((batch_size,1)) \n",
        "\n",
        "    for i in range(batch_size):\n",
        "        index = random.choice(_unsampled)\n",
        "        batch_s[i] = _train[index] \n",
        "        batch_labels[i] = _labels[index]\n",
        "        _unsampled.remove(index)\n",
        "    return batch_s, batch_labels, _unsampled\n",
        "\n",
        "\n",
        "def onehot_encoding(y_):\n",
        "    y_ = y_.reshape(len(y_))\n",
        "    n_values = int(np.max(y_)) + 1\n",
        "    return np.eye(n_values)[np.array(y_, dtype=np.int32)]  # Returns FLOATS"
      ],
      "metadata": {
        "id": "Ewg8NI_5r3K3"
      },
      "execution_count": 6,
      "outputs": []
    },
    {
      "cell_type": "code",
      "source": [
        "x = tf.placeholder(tf.float32, [None, 32, len(Xtrain[0][0])])\n",
        "y = tf.placeholder(tf.float32, [None, 6])\n",
        "\n",
        "weights = {\n",
        "    'hidden': tf.Variable(tf.random_normal([len(Xtrain[0][0]), 34])),\n",
        "    'out': tf.Variable(tf.random_normal([34, 6], mean=1.0))\n",
        "}\n",
        "biases = {\n",
        "    'hidden': tf.Variable(tf.random_normal([34])),\n",
        "    'out': tf.Variable(tf.random_normal([6]))\n",
        "}\n",
        "\n",
        "pred = MODEL(x, weights, biases)\n",
        "\n",
        "# loss\n",
        "L2 = 0.0015 * sum(tf.nn.l2_loss(tf_var) for tf_var in tf.trainable_variables())\n",
        "cost = tf.reduce_mean(tf.nn.softmax_cross_entropy_with_logits(labels=y, logits=pred)) + L2\n",
        "if decaying_learning_rate:\n",
        "    learning_rate = tf.train.exponential_decay(0.005, tf.Variable(0, trainable=False) * batch_size, 100000, 0.96, staircase=True)\n",
        "# optimizer\n",
        "optimizer = tf.train.AdamOptimizer(learning_rate=0.0025).minimize(cost, global_step=tf.Variable(0, trainable=False))\n",
        "# acc\n",
        "accuracy = tf.reduce_mean(tf.cast(tf.equal(tf.argmax(pred,1), tf.argmax(y,1)), tf.float32))"
      ],
      "metadata": {
        "colab": {
          "base_uri": "https://localhost:8080/"
        },
        "id": "YT0Mk8VnswYG",
        "outputId": "1f148c9d-3ee6-42f3-9ba3-dab3f0c3e20c"
      },
      "execution_count": 7,
      "outputs": [
        {
          "output_type": "stream",
          "name": "stdout",
          "text": [
            "WARNING:tensorflow:\n",
            "The TensorFlow contrib module will not be included in TensorFlow 2.0.\n",
            "For more information, please see:\n",
            "  * https://github.com/tensorflow/community/blob/master/rfcs/20180907-contrib-sunset.md\n",
            "  * https://github.com/tensorflow/addons\n",
            "  * https://github.com/tensorflow/io (for I/O related ops)\n",
            "If you depend on functionality not listed there, please file an issue.\n",
            "\n",
            "WARNING:tensorflow:From <ipython-input-6-dee8ebc3af5e>:7: BasicLSTMCell.__init__ (from tensorflow.python.ops.rnn_cell_impl) is deprecated and will be removed in a future version.\n",
            "Instructions for updating:\n",
            "This class is equivalent as tf.keras.layers.LSTMCell, and will be replaced by that in Tensorflow 2.0.\n",
            "WARNING:tensorflow:From <ipython-input-6-dee8ebc3af5e>:9: MultiRNNCell.__init__ (from tensorflow.python.ops.rnn_cell_impl) is deprecated and will be removed in a future version.\n",
            "Instructions for updating:\n",
            "This class is equivalent as tf.keras.layers.StackedRNNCells, and will be replaced by that in Tensorflow 2.0.\n",
            "WARNING:tensorflow:From <ipython-input-6-dee8ebc3af5e>:10: static_rnn (from tensorflow.python.ops.rnn) is deprecated and will be removed in a future version.\n",
            "Instructions for updating:\n",
            "Please use `keras.layers.RNN(cell, unroll=True)`, which is equivalent to this API\n",
            "WARNING:tensorflow:From /tensorflow-1.15.2/python3.7/tensorflow_core/python/ops/rnn_cell_impl.py:735: Layer.add_variable (from tensorflow.python.keras.engine.base_layer) is deprecated and will be removed in a future version.\n",
            "Instructions for updating:\n",
            "Please use `layer.add_weight` method instead.\n",
            "WARNING:tensorflow:From /tensorflow-1.15.2/python3.7/tensorflow_core/python/ops/rnn_cell_impl.py:739: calling Zeros.__init__ (from tensorflow.python.ops.init_ops) with dtype is deprecated and will be removed in a future version.\n",
            "Instructions for updating:\n",
            "Call initializer instance with the dtype argument instead of passing it to the constructor\n",
            "WARNING:tensorflow:From <ipython-input-7-a81184c4fe6e>:17: softmax_cross_entropy_with_logits (from tensorflow.python.ops.nn_ops) is deprecated and will be removed in a future version.\n",
            "Instructions for updating:\n",
            "\n",
            "Future major versions of TensorFlow will allow gradients to flow\n",
            "into the labels input on backprop by default.\n",
            "\n",
            "See `tf.nn.softmax_cross_entropy_with_logits_v2`.\n",
            "\n"
          ]
        }
      ]
    },
    {
      "cell_type": "code",
      "source": [
        "sess = tf.InteractiveSession(config=tf.ConfigProto(log_device_placement=True))\n",
        "sess.run(tf.global_variables_initializer())\n",
        "\n",
        "step = 1\n",
        "startime = time.time()\n",
        "unsampledidx = list(range(0, len(Xtrain)))\n",
        "\n",
        "train_loss = []\n",
        "train_acc = []\n",
        "test_loss = []\n",
        "test_acc = []\n",
        "\n",
        "while step * batch_size <= len(Xtrain) * 100:\n",
        "    if len(unsampledidx) < batch_size: \n",
        "      unsampledidx = list(range(0, len(Xtrain)))\n",
        "    batchX, labels, unsampledidx = get_batch(Xtrain, ytrain, unsampledidx, batch_size)\n",
        "    batchY = onehot_encoding(labels)\n",
        "\n",
        "    if len(batchY[0]) < 6:\n",
        "      tempY = np.zeros((batch_size, 6))\n",
        "      tempY[:batchY.shape[0],:batchY.shape[1]] = batchY\n",
        "      batchY = tempY\n",
        "\n",
        "    _, loss, acc = sess.run(\n",
        "      [optimizer, cost, accuracy],\n",
        "      feed_dict={\n",
        "        x: batchX, \n",
        "        y: batchY\n",
        "      }\n",
        "    )\n",
        "    train_loss.append(loss)\n",
        "    train_acc.append(acc)\n",
        "    \n",
        "    if (step * batch_size % (4096 * 8) == 0) or (step == 1) or (step * batch_size > len(Xtrain) * 100):\n",
        "      print(f'Iteration of {step * 4096}')\n",
        "      print(f'>> Training Loss: {round(loss, 5)} - Training Accuracy: {acc}')\n",
        "\n",
        "      loss, acc = sess.run(\n",
        "        [cost, accuracy], \n",
        "        feed_dict={\n",
        "          x: Xtest,\n",
        "          y: onehot_encoding(ytest)\n",
        "        }\n",
        "      )\n",
        "      test_loss.append(loss)\n",
        "      test_acc.append(acc)\n",
        "      print(f'>> Test Loss: {round(loss)} - Test Accuracy: {acc}')\n",
        "    step += 1\n",
        "\n",
        "one_hot_predictions, accuracy, final_loss = sess.run(\n",
        "  [pred, accuracy, cost],\n",
        "  feed_dict={\n",
        "    x: Xtest,\n",
        "    y: onehot_encoding(ytest)\n",
        "  }\n",
        ")\n",
        "\n",
        "test_loss.append(final_loss)\n",
        "test_acc.append(accuracy)\n",
        "\n",
        "print('--------------------------------------------------------')\n",
        "print('Summary:')\n",
        "print(f'>> Loss: {round(final_loss, 5)} - Accuracy: {accuracy}')\n",
        "endtime = time.time()\n",
        "print(\"Time Spent: {}\".format(endtime - startime))"
      ],
      "metadata": {
        "colab": {
          "base_uri": "https://localhost:8080/"
        },
        "id": "SmPRJQFDuYCE",
        "outputId": "7a8c9889-4782-4df7-b3d1-d3766cbdd753"
      },
      "execution_count": 8,
      "outputs": [
        {
          "output_type": "stream",
          "name": "stdout",
          "text": [
            "Device mapping:\n",
            "/job:localhost/replica:0/task:0/device:XLA_CPU:0 -> device: XLA_CPU device\n",
            "/job:localhost/replica:0/task:0/device:XLA_GPU:0 -> device: XLA_GPU device\n",
            "/job:localhost/replica:0/task:0/device:GPU:0 -> device: 0, name: Tesla P100-PCIE-16GB, pci bus id: 0000:00:04.0, compute capability: 6.0\n",
            "\n",
            "Iteration of 4096\n",
            ">> Training Loss: 3.752579927444458 - Training Accuracy: 0.177490234375\n",
            ">> Test Loss: 3 - Test Accuracy: 0.19440098106861115\n",
            "Iteration of 32768\n",
            ">> Training Loss: 3.089050054550171 - Training Accuracy: 0.294677734375\n",
            ">> Test Loss: 3 - Test Accuracy: 0.29855677485466003\n",
            "Iteration of 65536\n",
            ">> Training Loss: 2.8519699573516846 - Training Accuracy: 0.401123046875\n",
            ">> Test Loss: 3 - Test Accuracy: 0.4293166399002075\n",
            "Iteration of 98304\n",
            ">> Training Loss: 2.7591400146484375 - Training Accuracy: 0.4541015625\n",
            ">> Test Loss: 3 - Test Accuracy: 0.46304991841316223\n",
            "Iteration of 131072\n",
            ">> Training Loss: 2.5791099071502686 - Training Accuracy: 0.513671875\n",
            ">> Test Loss: 3 - Test Accuracy: 0.509650468826294\n",
            "Iteration of 163840\n",
            ">> Training Loss: 2.4411299228668213 - Training Accuracy: 0.56103515625\n",
            ">> Test Loss: 2 - Test Accuracy: 0.5699878334999084\n",
            "Iteration of 196608\n",
            ">> Training Loss: 2.2524800300598145 - Training Accuracy: 0.63427734375\n",
            ">> Test Loss: 2 - Test Accuracy: 0.6014606356620789\n",
            "Iteration of 229376\n",
            ">> Training Loss: 2.6292600631713867 - Training Accuracy: 0.549072265625\n",
            ">> Test Loss: 2 - Test Accuracy: 0.6174578070640564\n",
            "Iteration of 262144\n",
            ">> Training Loss: 2.204890012741089 - Training Accuracy: 0.64990234375\n",
            ">> Test Loss: 2 - Test Accuracy: 0.6680577397346497\n",
            "Iteration of 294912\n",
            ">> Training Loss: 2.0225698947906494 - Training Accuracy: 0.69189453125\n",
            ">> Test Loss: 2 - Test Accuracy: 0.7068336009979248\n",
            "Iteration of 327680\n",
            ">> Training Loss: 1.9331599473953247 - Training Accuracy: 0.712158203125\n",
            ">> Test Loss: 2 - Test Accuracy: 0.7402191162109375\n",
            "Iteration of 360448\n",
            ">> Training Loss: 2.166800022125244 - Training Accuracy: 0.631591796875\n",
            ">> Test Loss: 2 - Test Accuracy: 0.6567553281784058\n",
            "Iteration of 393216\n",
            ">> Training Loss: 2.1754000186920166 - Training Accuracy: 0.606689453125\n",
            ">> Test Loss: 2 - Test Accuracy: 0.6002434492111206\n",
            "Iteration of 425984\n",
            ">> Training Loss: 2.091900110244751 - Training Accuracy: 0.639404296875\n",
            ">> Test Loss: 2 - Test Accuracy: 0.5753781795501709\n",
            "Iteration of 458752\n",
            ">> Training Loss: 2.0346200466156006 - Training Accuracy: 0.6572265625\n",
            ">> Test Loss: 2 - Test Accuracy: 0.6944879293441772\n",
            "Iteration of 491520\n",
            ">> Training Loss: 1.951449990272522 - Training Accuracy: 0.6943359375\n",
            ">> Test Loss: 2 - Test Accuracy: 0.7070074677467346\n",
            "Iteration of 524288\n",
            ">> Training Loss: 1.876829981803894 - Training Accuracy: 0.732421875\n",
            ">> Test Loss: 2 - Test Accuracy: 0.7365675568580627\n",
            "Iteration of 557056\n",
            ">> Training Loss: 1.7687599658966064 - Training Accuracy: 0.760986328125\n",
            ">> Test Loss: 2 - Test Accuracy: 0.7520431280136108\n",
            "Iteration of 589824\n",
            ">> Training Loss: 1.9761699438095093 - Training Accuracy: 0.681640625\n",
            ">> Test Loss: 2 - Test Accuracy: 0.7186576128005981\n",
            "Iteration of 622592\n",
            ">> Training Loss: 1.7820899486541748 - Training Accuracy: 0.749755859375\n",
            ">> Test Loss: 2 - Test Accuracy: 0.732220470905304\n",
            "Iteration of 655360\n",
            ">> Training Loss: 1.6963399648666382 - Training Accuracy: 0.77783203125\n",
            ">> Test Loss: 2 - Test Accuracy: 0.7675186991691589\n",
            "Iteration of 688128\n",
            ">> Training Loss: 1.6204500198364258 - Training Accuracy: 0.805419921875\n",
            ">> Test Loss: 2 - Test Accuracy: 0.776734471321106\n",
            "Iteration of 720896\n",
            ">> Training Loss: 1.5904099941253662 - Training Accuracy: 0.820556640625\n",
            ">> Test Loss: 2 - Test Accuracy: 0.7929055690765381\n",
            "Iteration of 753664\n",
            ">> Training Loss: 1.5432599782943726 - Training Accuracy: 0.828125\n",
            ">> Test Loss: 2 - Test Accuracy: 0.8022952675819397\n",
            "Iteration of 786432\n",
            ">> Training Loss: 1.9436399936676025 - Training Accuracy: 0.69580078125\n",
            ">> Test Loss: 2 - Test Accuracy: 0.6892714500427246\n",
            "Iteration of 819200\n",
            ">> Training Loss: 1.6789000034332275 - Training Accuracy: 0.765625\n",
            ">> Test Loss: 2 - Test Accuracy: 0.7544775009155273\n",
            "Iteration of 851968\n",
            ">> Training Loss: 1.5775799751281738 - Training Accuracy: 0.8095703125\n",
            ">> Test Loss: 2 - Test Accuracy: 0.8009042143821716\n",
            "Iteration of 884736\n",
            ">> Training Loss: 1.5107200145721436 - Training Accuracy: 0.82666015625\n",
            ">> Test Loss: 2 - Test Accuracy: 0.8200312852859497\n",
            "Iteration of 917504\n",
            ">> Training Loss: 1.4701800346374512 - Training Accuracy: 0.8408203125\n",
            ">> Test Loss: 2 - Test Accuracy: 0.8137715458869934\n",
            "Iteration of 950272\n",
            ">> Training Loss: 1.451259970664978 - Training Accuracy: 0.84765625\n",
            ">> Test Loss: 1 - Test Accuracy: 0.8363763093948364\n",
            "Iteration of 983040\n",
            ">> Training Loss: 1.4138000011444092 - Training Accuracy: 0.862548828125\n",
            ">> Test Loss: 2 - Test Accuracy: 0.7676925659179688\n",
            "Iteration of 1015808\n",
            ">> Training Loss: 1.4681700468063354 - Training Accuracy: 0.837646484375\n",
            ">> Test Loss: 1 - Test Accuracy: 0.8447226285934448\n",
            "Iteration of 1048576\n",
            ">> Training Loss: 1.4812099933624268 - Training Accuracy: 0.821533203125\n",
            ">> Test Loss: 1 - Test Accuracy: 0.849417507648468\n",
            "Iteration of 1081344\n",
            ">> Training Loss: 1.3885400295257568 - Training Accuracy: 0.8662109375\n",
            ">> Test Loss: 1 - Test Accuracy: 0.8466353416442871\n",
            "Iteration of 1114112\n",
            ">> Training Loss: 1.3334399461746216 - Training Accuracy: 0.888671875\n",
            ">> Test Loss: 1 - Test Accuracy: 0.8532429337501526\n",
            "Iteration of 1146880\n",
            ">> Training Loss: 1.313480019569397 - Training Accuracy: 0.890380859375\n",
            ">> Test Loss: 1 - Test Accuracy: 0.874282717704773\n",
            "Iteration of 1179648\n",
            ">> Training Loss: 1.3051300048828125 - Training Accuracy: 0.8955078125\n",
            ">> Test Loss: 1 - Test Accuracy: 0.8746305108070374\n",
            "Iteration of 1212416\n",
            ">> Training Loss: 1.273169994354248 - Training Accuracy: 0.911376953125\n",
            ">> Test Loss: 1 - Test Accuracy: 0.8716744780540466\n",
            "Iteration of 1245184\n",
            ">> Training Loss: 1.3929799795150757 - Training Accuracy: 0.84619140625\n",
            ">> Test Loss: 1 - Test Accuracy: 0.8511562943458557\n",
            "Iteration of 1277952\n",
            ">> Training Loss: 1.298740029335022 - Training Accuracy: 0.878173828125\n",
            ">> Test Loss: 1 - Test Accuracy: 0.8687185049057007\n",
            "Iteration of 1310720\n",
            ">> Training Loss: 1.2572599649429321 - Training Accuracy: 0.896484375\n",
            ">> Test Loss: 1 - Test Accuracy: 0.8699356913566589\n",
            "Iteration of 1343488\n",
            ">> Training Loss: 1.2120699882507324 - Training Accuracy: 0.91357421875\n",
            ">> Test Loss: 1 - Test Accuracy: 0.8711528182029724\n",
            "Iteration of 1376256\n",
            ">> Training Loss: 1.2049700021743774 - Training Accuracy: 0.91943359375\n",
            ">> Test Loss: 1 - Test Accuracy: 0.879151463508606\n",
            "Iteration of 1409024\n",
            ">> Training Loss: 1.1943299770355225 - Training Accuracy: 0.917236328125\n",
            ">> Test Loss: 1 - Test Accuracy: 0.8817597031593323\n",
            "Iteration of 1441792\n",
            ">> Training Loss: 1.2063599824905396 - Training Accuracy: 0.912353515625\n",
            ">> Test Loss: 1 - Test Accuracy: 0.8815858364105225\n",
            "Iteration of 1474560\n",
            ">> Training Loss: 1.3149399757385254 - Training Accuracy: 0.865478515625\n",
            ">> Test Loss: 2 - Test Accuracy: 0.7791688442230225\n",
            "Iteration of 1507328\n",
            ">> Training Loss: 1.30771005153656 - Training Accuracy: 0.882568359375\n",
            ">> Test Loss: 1 - Test Accuracy: 0.8608937859535217\n",
            "Iteration of 1540096\n",
            ">> Training Loss: 1.2312999963760376 - Training Accuracy: 0.89599609375\n",
            ">> Test Loss: 1 - Test Accuracy: 0.8812380433082581\n",
            "Iteration of 1572864\n",
            ">> Training Loss: 1.1988600492477417 - Training Accuracy: 0.905517578125\n",
            ">> Test Loss: 1 - Test Accuracy: 0.8878455758094788\n",
            "Iteration of 1605632\n",
            ">> Training Loss: 1.1594899892807007 - Training Accuracy: 0.92138671875\n",
            ">> Test Loss: 1 - Test Accuracy: 0.8921926617622375\n",
            "Iteration of 1638400\n",
            ">> Training Loss: 1.1417299509048462 - Training Accuracy: 0.927001953125\n",
            ">> Test Loss: 1 - Test Accuracy: 0.8941053748130798\n",
            "Iteration of 1671168\n",
            ">> Training Loss: 1.1485400199890137 - Training Accuracy: 0.91796875\n",
            ">> Test Loss: 1 - Test Accuracy: 0.9014084339141846\n",
            "Iteration of 1703936\n",
            ">> Training Loss: 1.1059000492095947 - Training Accuracy: 0.931396484375\n",
            ">> Test Loss: 1 - Test Accuracy: 0.8984524607658386\n",
            "Iteration of 1736704\n",
            ">> Training Loss: 1.0987199544906616 - Training Accuracy: 0.936279296875\n",
            ">> Test Loss: 1 - Test Accuracy: 0.9074943661689758\n",
            "Iteration of 1769472\n",
            ">> Training Loss: 1.1030399799346924 - Training Accuracy: 0.9326171875\n",
            ">> Test Loss: 1 - Test Accuracy: 0.90801602602005\n",
            "Iteration of 1802240\n",
            ">> Training Loss: 1.085729956626892 - Training Accuracy: 0.938720703125\n",
            ">> Test Loss: 1 - Test Accuracy: 0.9036689400672913\n",
            "Iteration of 1835008\n",
            ">> Training Loss: 1.082260012626648 - Training Accuracy: 0.937255859375\n",
            ">> Test Loss: 1 - Test Accuracy: 0.9067988395690918\n",
            "Iteration of 1867776\n",
            ">> Training Loss: 1.5544699430465698 - Training Accuracy: 0.787841796875\n",
            ">> Test Loss: 1 - Test Accuracy: 0.8278560042381287\n",
            "Iteration of 1900544\n",
            ">> Training Loss: 1.1411000490188599 - Training Accuracy: 0.906005859375\n",
            ">> Test Loss: 1 - Test Accuracy: 0.8593288064002991\n",
            "Iteration of 1933312\n",
            ">> Training Loss: 1.1363699436187744 - Training Accuracy: 0.91015625\n",
            ">> Test Loss: 1 - Test Accuracy: 0.8902799487113953\n",
            "Iteration of 1966080\n",
            ">> Training Loss: 1.096809983253479 - Training Accuracy: 0.927490234375\n",
            ">> Test Loss: 1 - Test Accuracy: 0.8951486945152283\n",
            "Iteration of 1998848\n",
            ">> Training Loss: 1.054229974746704 - Training Accuracy: 0.938720703125\n",
            ">> Test Loss: 1 - Test Accuracy: 0.9069727063179016\n",
            "Iteration of 2031616\n",
            ">> Training Loss: 1.0608099699020386 - Training Accuracy: 0.931884765625\n",
            ">> Test Loss: 1 - Test Accuracy: 0.9073204398155212\n",
            "Iteration of 2064384\n",
            ">> Training Loss: 1.041290044784546 - Training Accuracy: 0.942138671875\n",
            ">> Test Loss: 1 - Test Accuracy: 0.9125369787216187\n",
            "Iteration of 2097152\n",
            ">> Training Loss: 1.0419700145721436 - Training Accuracy: 0.939208984375\n",
            ">> Test Loss: 1 - Test Accuracy: 0.9097548127174377\n",
            "Iteration of 2129920\n",
            ">> Training Loss: 1.0712000131607056 - Training Accuracy: 0.925048828125\n",
            ">> Test Loss: 1 - Test Accuracy: 0.8972352743148804\n",
            "Iteration of 2162688\n",
            ">> Training Loss: 1.02892005443573 - Training Accuracy: 0.9365234375\n",
            ">> Test Loss: 2 - Test Accuracy: 0.7982959747314453\n",
            "Iteration of 2195456\n",
            ">> Training Loss: 1.0940799713134766 - Training Accuracy: 0.91162109375\n",
            ">> Test Loss: 1 - Test Accuracy: 0.9114936590194702\n",
            "Iteration of 2228224\n",
            ">> Training Loss: 1.0362399816513062 - Training Accuracy: 0.936767578125\n",
            ">> Test Loss: 1 - Test Accuracy: 0.9062771797180176\n",
            "Iteration of 2260992\n",
            ">> Training Loss: 1.0168999433517456 - Training Accuracy: 0.9453125\n",
            ">> Test Loss: 1 - Test Accuracy: 0.9114936590194702\n",
            "--------------------------------------------------------\n",
            "Summary:\n",
            ">> Loss: 1.0912699699401855 - Accuracy: 0.9114936590194702\n",
            "Time Spent: 272.5027279853821\n"
          ]
        }
      ]
    },
    {
      "cell_type": "code",
      "source": [
        "%matplotlib inline\n",
        "\n",
        "trainaxis = np.array(range(batch_size, (len(train_loss) + 1) * batch_size, batch_size))\n",
        "plt.plot(trainaxis, np.array(train_acc), label=\"Train Accuracy\")\n",
        "\n",
        "testaxis = np.append(\n",
        "    np.array(range(batch_size, len(test_loss) * display_iter, display_iter)[:-1]),\n",
        "    [training_iters]\n",
        ")\n",
        "plt.plot(testaxis, np.array(test_acc), label=\"Test Accuracy\")\n",
        "\n",
        "plt.title(\"Training Accuracy and Testing Accuracy\")\n",
        "plt.legend(loc='lower right', shadow=True)\n",
        "plt.ylabel('Accuracy')\n",
        "plt.xlabel('Iterations')\n",
        "plt.show()"
      ],
      "metadata": {
        "colab": {
          "base_uri": "https://localhost:8080/",
          "height": 295
        },
        "id": "NfXFtIA8-xvE",
        "outputId": "e10f9d93-66ea-4b23-b9a7-639ba7583980"
      },
      "execution_count": 13,
      "outputs": [
        {
          "output_type": "display_data",
          "data": {
            "text/plain": [
              "<Figure size 432x288 with 1 Axes>"
            ],
            "image/png": "[encoded data removed]"
          },
          "metadata": {
            "needs_background": "light"
          }
        }
      ]
    },
    {
      "cell_type": "code",
      "source": [
        "trainaxis = np.array(range(batch_size, (len(train_loss) + 1) * batch_size, batch_size))\n",
        "plt.plot(trainaxis, np.array(train_loss), label=\"Train Loss\")\n",
        "\n",
        "testaxis = np.append(\n",
        "    np.array(range(batch_size, len(test_loss) * display_iter, display_iter)[:-1]),\n",
        "    [training_iters]\n",
        ")\n",
        "plt.plot(testaxis, np.array(test_loss), label=\"Test Loss\")\n",
        "\n",
        "plt.title(\"Training Loss and Testing Loss\")\n",
        "plt.legend(loc='lower right', shadow=True)\n",
        "plt.ylabel('Loss')\n",
        "plt.xlabel('Iterations')"
      ],
      "metadata": {
        "colab": {
          "base_uri": "https://localhost:8080/",
          "height": 312
        },
        "id": "SJj6au4--_qn",
        "outputId": "af060fcb-6de7-42b1-da45-b2e1c2c6a968"
      },
      "execution_count": 14,
      "outputs": [
        {
          "output_type": "execute_result",
          "data": {
            "text/plain": [
              "Text(0.5, 0, 'Iterations')"
            ]
          },
          "metadata": {},
          "execution_count": 14
        },
        {
          "output_type": "display_data",
          "data": {
            "text/plain": [
              "<Figure size 432x288 with 1 Axes>"
            ],
            "image/png": "[encoded data removed]"
          },
          "metadata": {
            "needs_background": "light"
          }
        }
      ]
    },
    {
      "cell_type": "code",
      "source": [
        "predictions = one_hot_predictions.argmax(1)\n",
        "confusion_matrix = metrics.confusion_matrix(ytest, predictions)\n",
        "normalised_confusion_matrix = np.array(confusion_matrix, dtype=np.float32)/np.sum(confusion_matrix)*100\n",
        "width = 8\n",
        "height = 8\n",
        "plt.figure(figsize=(width, height))\n",
        "plt.imshow(\n",
        "    normalised_confusion_matrix, \n",
        "    interpolation='nearest', \n",
        "    cmap=plt.cm.YlGnBu\n",
        ")\n",
        "plt.title(\"Confusion Matrix on Test Dataset\")\n",
        "plt.colorbar()\n",
        "tick_marks = np.arange(6)\n",
        "plt.xticks(tick_marks, CLASSES, rotation=60)\n",
        "plt.yticks(tick_marks, CLASSES)\n",
        "plt.tight_layout()\n",
        "plt.ylabel('True Labels')\n",
        "plt.xlabel('Predicted Labels')\n",
        "plt.show()"
      ],
      "metadata": {
        "colab": {
          "base_uri": "https://localhost:8080/",
          "height": 570
        },
        "id": "UURKT-GU5StX",
        "outputId": "34dd5362-a661-4b56-d691-17b9c5084ec8"
      },
      "execution_count": 11,
      "outputs": [
        {
          "output_type": "display_data",
          "data": {
            "text/plain": [
              "<Figure size 576x576 with 2 Axes>"
            ],
            "image/png": "[encoded data removed]"
          },
          "metadata": {
            "needs_background": "light"
          }
        }
      ]
    },
    {
      "cell_type": "code",
      "source": [
        "saver = tf.train.Saver()\n",
        "saver.save(sess, 'trained_model')"
      ],
      "metadata": {
        "colab": {
          "base_uri": "https://localhost:8080/",
          "height": 35
        },
        "id": "2bSddNDH8iHP",
        "outputId": "f676be25-88bc-4d7c-c1b9-82b5f6b6488a"
      },
      "execution_count": 12,
      "outputs": [
        {
          "output_type": "execute_result",
          "data": {
            "text/plain": [
              "'trained_model'"
            ],
            "application/vnd.google.colaboratory.intrinsic+json": {
              "type": "string"
            }
          },
          "metadata": {},
          "execution_count": 12
        }
      ]
    }
  ]
}